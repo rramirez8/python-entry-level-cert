{
 "cells": [
  {
   "cell_type": "markdown",
   "id": "ba518e16",
   "metadata": {},
   "source": [
    "# A Cloud Guru - Python Training"
   ]
  },
  {
   "cell_type": "markdown",
   "id": "87bd492b",
   "metadata": {},
   "source": [
    "## Python Comments"
   ]
  },
  {
   "cell_type": "code",
   "execution_count": 2,
   "id": "91d6dad4",
   "metadata": {
    "scrolled": true
   },
   "outputs": [
    {
     "name": "stdout",
     "output_type": "stream",
     "text": [
      "Hello World\n"
     ]
    },
    {
     "data": {
      "text/plain": [
       "'\\nThis is not a block comment\\nThis is a multiline string\\n'"
      ]
     },
     "execution_count": 2,
     "metadata": {},
     "output_type": "execute_result"
    }
   ],
   "source": [
    "# this is a full line comment\n",
    "print(\"Hello World\") # This is a trailing comment\n",
    "\"\"\"\n",
    "This is not a block comment\n",
    "This is a multiline string\n",
    "\"\"\""
   ]
  },
  {
   "cell_type": "markdown",
   "id": "c5416331",
   "metadata": {},
   "source": [
    "## Python Comparison Operators"
   ]
  },
  {
   "cell_type": "markdown",
   "id": "4928f4e8",
   "metadata": {},
   "source": [
    "less than and greater than < > examples for integers and strings"
   ]
  },
  {
   "cell_type": "code",
   "execution_count": 7,
   "id": "87eb27ef",
   "metadata": {},
   "outputs": [
    {
     "name": "stdout",
     "output_type": "stream",
     "text": [
      "True\n",
      "False\n",
      "True\n",
      "False\n",
      "97\n",
      "65\n",
      "True\n"
     ]
    }
   ],
   "source": [
    "# compare 2 ints\n",
    "print(1<2)\n",
    "print(1>2)\n",
    "# compare 2 strings, uses the ascii number of the letter\n",
    "print('a'<'b')\n",
    "print('a'>'b')\n",
    "# you can use the ord() function to get the orninal number and compare\n",
    "print(ord('a'))\n",
    "print(ord('A'))\n",
    "print(ord('a') > ord('A'))"
   ]
  },
  {
   "cell_type": "markdown",
   "id": "5c8ebb21",
   "metadata": {},
   "source": [
    "equal and not equal ==, != can be used to compare"
   ]
  },
  {
   "cell_type": "code",
   "execution_count": 9,
   "id": "f2bc0369",
   "metadata": {},
   "outputs": [
    {
     "name": "stdout",
     "output_type": "stream",
     "text": [
      "True\n",
      "False\n"
     ]
    }
   ],
   "source": [
    "# == can compare a string to an int\n",
    "print(1 == 1)\n",
    "print('a' == 1)"
   ]
  },
  {
   "cell_type": "markdown",
   "id": "6e52c8e2",
   "metadata": {},
   "source": [
    "the IS operator can be used to compare objects\n",
    "integers and strings are immutable"
   ]
  },
  {
   "cell_type": "code",
   "execution_count": 12,
   "id": "4c8bafa6",
   "metadata": {},
   "outputs": [
    {
     "name": "stdout",
     "output_type": "stream",
     "text": [
      "True\n",
      "True\n",
      "False\n"
     ]
    },
    {
     "name": "stderr",
     "output_type": "stream",
     "text": [
      "<>:1: SyntaxWarning: \"is\" with a literal. Did you mean \"==\"?\n",
      "<>:2: SyntaxWarning: \"is\" with a literal. Did you mean \"==\"?\n",
      "<>:3: SyntaxWarning: \"is not\" with a literal. Did you mean \"!=\"?\n",
      "<>:1: SyntaxWarning: \"is\" with a literal. Did you mean \"==\"?\n",
      "<>:2: SyntaxWarning: \"is\" with a literal. Did you mean \"==\"?\n",
      "<>:3: SyntaxWarning: \"is not\" with a literal. Did you mean \"!=\"?\n",
      "<ipython-input-12-751ba544ec25>:1: SyntaxWarning: \"is\" with a literal. Did you mean \"==\"?\n",
      "  print(1 is 1)\n",
      "<ipython-input-12-751ba544ec25>:2: SyntaxWarning: \"is\" with a literal. Did you mean \"==\"?\n",
      "  print('a' is 'a')\n",
      "<ipython-input-12-751ba544ec25>:3: SyntaxWarning: \"is not\" with a literal. Did you mean \"!=\"?\n",
      "  print('a' is not 'a')\n"
     ]
    }
   ],
   "source": [
    "print(1 is 1)\n",
    "print('a' is 'a')\n",
    "print('a' is not 'a')\n",
    "# it gives me a warning cause Im using literals for the example"
   ]
  },
  {
   "cell_type": "code",
   "execution_count": 14,
   "id": "f7758ac7",
   "metadata": {},
   "outputs": [
    {
     "name": "stdout",
     "output_type": "stream",
     "text": [
      "140474053207792\n",
      "94000063319360\n",
      "False\n"
     ]
    }
   ],
   "source": [
    "# you can print the id of an object such as a str or int\n",
    "print(id('a'))\n",
    "print(id(1))\n",
    "\n",
    "# lists are NOT immutable so . . .\n",
    "print([] is [])\n"
   ]
  },
  {
   "cell_type": "markdown",
   "id": "a8330c5a",
   "metadata": {},
   "source": [
    "## Python Boolean Operators"
   ]
  },
  {
   "cell_type": "code",
   "execution_count": 16,
   "id": "d2e2bffc",
   "metadata": {},
   "outputs": [
    {
     "name": "stdout",
     "output_type": "stream",
     "text": [
      "False\n",
      "True\n",
      "----------\n",
      "True\n",
      "True\n",
      "False\n",
      "----------\n",
      "True\n",
      "False\n",
      "False\n"
     ]
    }
   ],
   "source": [
    "# logical AND, OR, NOT\n",
    "\n",
    "# lets try not true and not false\n",
    "print(not True)\n",
    "print(not False)\n",
    "print(\"----------\")\n",
    "# lets try using OR\n",
    "print(True or True)\n",
    "print(True or False)\n",
    "print(False or False)\n",
    "print(\"----------\")\n",
    "# lets try using AND\n",
    "print(True and True)\n",
    "print(True and False)\n",
    "print(False and False)"
   ]
  },
  {
   "cell_type": "markdown",
   "id": "048c8ec6",
   "metadata": {},
   "source": [
    "## Python Unary Bitwise Operators"
   ]
  },
  {
   "cell_type": "code",
   "execution_count": 17,
   "id": "afe533e7",
   "metadata": {},
   "outputs": [
    {
     "name": "stdout",
     "output_type": "stream",
     "text": [
      "setting a to binary 2\n",
      "2\n",
      "bitwise compliment operator on 2, ~2\n",
      "-3\n",
      "set a to binary 1001\n",
      "set b to binary 1100\n",
      "9\n",
      "12\n",
      "lets try OR with | \n",
      "0b1101\n",
      "lets try AND with & \n",
      "0b1000\n",
      "lets try XOR with ^ \n",
      "0b101\n",
      "lets try shifting the decimal to the left using >>\n",
      "0b10\n",
      "lets try shifting the decimal to the right using <<\n",
      "0b100100\n"
     ]
    }
   ],
   "source": [
    "# setting a binary value\n",
    "print(\"setting a to binary 2\")\n",
    "a = 0b10\n",
    "print (a)\n",
    "\n",
    "# bitwise compliment operator\n",
    "# will take the value you pass it and multiply by negative 1 then subtract one\n",
    "# so 2 will become a -3\n",
    "print(\"bitwise compliment operator on 2, ~2\")\n",
    "print(~2)\n",
    "\n",
    "# bitwise operators AND, OR, XOR, NOT\n",
    "# set some variables\n",
    "print(\"set a to binary 1001\")\n",
    "print(\"set b to binary 1100\")\n",
    "a = 0b1001\n",
    "b = 0b1100\n",
    "print(a)\n",
    "print(b)\n",
    "\n",
    "print(\"lets try OR with | \") # should be 1101\n",
    "print(bin(a | b))\n",
    "\n",
    "print(\"lets try AND with & \") # should be 1000\n",
    "print(bin(a & b))\n",
    "\n",
    "print(\"lets try XOR with ^ \") # should be 0101, xclusive OR only true if they are different both 1 or both 0 yields a 0\n",
    "print(bin(a ^ b))\n",
    "\n",
    "# shift operators move the decimal to the left or right\n",
    "# counter intuitive >> moves to the left, << moves to the right\n",
    "print(\"lets try shifting the decimal to the left using >>\")\n",
    "print(bin(a >> 2)) # should be 10\n",
    "\n",
    "print(\"lets try shifting the decimal to the right using <<\")\n",
    "print(bin(a << 2)) # should be 100100"
   ]
  },
  {
   "cell_type": "markdown",
   "id": "113faa46",
   "metadata": {},
   "source": [
    "## Python Typecasting"
   ]
  },
  {
   "cell_type": "code",
   "execution_count": 18,
   "id": "09a54cf5",
   "metadata": {},
   "outputs": [
    {
     "name": "stdout",
     "output_type": "stream",
     "text": [
      "cast int 1 to float 1.0\n",
      "using float function\n",
      "1.0\n",
      "cast float 1.6 to int 1\n",
      "using int function, note it will trunc decimal\n",
      "1\n",
      "cast 1 to string\n",
      "1\n",
      "cast 1.0 to string\n",
      "1.0\n",
      "cast boolean false to string\n",
      "False\n",
      "cast string to int, float\n",
      "1\n",
      "1.6\n",
      "cast int,float,str to boolean\n",
      "True\n",
      "True\n",
      "True\n",
      "False\n",
      "False\n",
      "False\n",
      "boolean opertors can be applied to different types\n",
      "that\n",
      "0\n"
     ]
    }
   ],
   "source": [
    "print(\"cast int 1 to float 1.0\")\n",
    "print(\"using float function\")\n",
    "print(float(1))\n",
    "\n",
    "print(\"cast float 1.6 to int 1\")\n",
    "print(\"using int function, note it will trunc decimal\")\n",
    "print(int(1.6))\n",
    "\n",
    "print(\"cast 1 to string\")\n",
    "print(str(1))\n",
    "\n",
    "print(\"cast 1.0 to string\")\n",
    "print(str(1.0))\n",
    "\n",
    "print(\"cast boolean false to string\")\n",
    "print(str(False))\n",
    "\n",
    "print(\"cast string to int, float\")\n",
    "print(int('1'))\n",
    "print(float('1.6'))\n",
    "\n",
    "print(\"cast int,float,str to boolean\")\n",
    "print(bool(1)) #returns boolean\n",
    "print(bool(1.0))#returns boolean\n",
    "print(bool('hello'))#returns boolean\n",
    "print(bool(0)) #returns boolean\n",
    "print(bool(0.0))#returns boolean\n",
    "print(bool(''))#returns boolean\n",
    "\n",
    "print(\"boolean opertors can be applied to different types\")\n",
    "print(\"this\" and \"that\") # returns \"that\"\n",
    "print(\"this\" and 0) # returns 0\n",
    "# works with or and not\n",
    "# and returns first false value or last value\n",
    "# or returns first true value or last value\n",
    "# not returns opposite boolean value"
   ]
  },
  {
   "cell_type": "markdown",
   "id": "103c8578",
   "metadata": {},
   "source": [
    "## Python Math Operations"
   ]
  },
  {
   "cell_type": "code",
   "execution_count": 19,
   "id": "65a0d977",
   "metadata": {},
   "outputs": [
    {
     "name": "stdout",
     "output_type": "stream",
     "text": [
      "This is to show math operations\n",
      "addition is 3 + 3\n",
      "6\n",
      "subtraction is 5 - 3\n",
      "2\n",
      "multiplication is 5 * 3\n",
      "15\n",
      "decimal division is 5 / 3\n",
      "1.6666666666666667\n",
      "mod division is  5 % 3\n",
      "2\n",
      "floor division is 5 // 3\n",
      "1\n"
     ]
    }
   ],
   "source": [
    "print(\"This is to show math operations\")\n",
    "\n",
    "print(\"addition is 3 + 3\")\n",
    "print(3 + 3)\n",
    "\n",
    "print(\"subtraction is 5 - 3\")\n",
    "print(5 - 3)\n",
    "\n",
    "print(\"multiplication is 5 * 3\")\n",
    "print(5 * 3)\n",
    "\n",
    "print(\"decimal division is 5 / 3\")\n",
    "print(5 / 3)\n",
    "\n",
    "print(\"mod division is  5 % 3\") # only returns the amount left over\n",
    "print(5 % 3)\n",
    "\n",
    "print(\"floor division is 5 // 3\")  # only returns the full integer, no leftover\n",
    "print(5 // 3)"
   ]
  },
  {
   "cell_type": "code",
   "execution_count": null,
   "id": "8df2e6c5",
   "metadata": {},
   "outputs": [],
   "source": []
  }
 ],
 "metadata": {
  "celltoolbar": "Raw Cell Format",
  "kernelspec": {
   "display_name": "Python 3",
   "language": "python",
   "name": "python3"
  },
  "language_info": {
   "codemirror_mode": {
    "name": "ipython",
    "version": 3
   },
   "file_extension": ".py",
   "mimetype": "text/x-python",
   "name": "python",
   "nbconvert_exporter": "python",
   "pygments_lexer": "ipython3",
   "version": "3.8.8"
  }
 },
 "nbformat": 4,
 "nbformat_minor": 5
}
