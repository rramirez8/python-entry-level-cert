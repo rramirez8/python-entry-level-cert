{
 "cells": [
  {
   "cell_type": "markdown",
   "id": "21d64ce3",
   "metadata": {},
   "source": [
    "## Usefull string methods part 2"
   ]
  },
  {
   "cell_type": "markdown",
   "id": "a11d35d2",
   "metadata": {},
   "source": [
    "### using the split() method"
   ]
  },
  {
   "cell_type": "code",
   "execution_count": 1,
   "id": "0c04b096",
   "metadata": {},
   "outputs": [
    {
     "name": "stdout",
     "output_type": "stream",
     "text": [
      "['This', 'is', 'a', 'simple', 'phrase']\n"
     ]
    }
   ],
   "source": [
    "phrase = \"This is a simple phrase\"\n",
    "words = phrase.split()\n",
    "print(words)"
   ]
  },
  {
   "cell_type": "markdown",
   "id": "4f056ccf",
   "metadata": {},
   "source": [
    "### you can provide the delimiter to be used in the split method"
   ]
  },
  {
   "cell_type": "code",
   "execution_count": 3,
   "id": "bf65c93f",
   "metadata": {
    "scrolled": true
   },
   "outputs": [
    {
     "name": "stdout",
     "output_type": "stream",
     "text": [
      "jimmy\n"
     ]
    }
   ],
   "source": [
    "url = \"https://example.com/user/jimmy\"\n",
    "user = url.split('/')[-1] #this specifies slash as the delimiter\n",
    "print(user)"
   ]
  },
  {
   "cell_type": "markdown",
   "id": "899ca9d1",
   "metadata": {},
   "source": [
    "### Strings have a JOIN method, join(), that will join words inserting the specified delimiter"
   ]
  },
  {
   "cell_type": "code",
   "execution_count": 4,
   "id": "6e417984",
   "metadata": {},
   "outputs": [
    {
     "data": {
      "text/plain": [
       "'This,is,a,simple,phrase'"
      ]
     },
     "execution_count": 4,
     "metadata": {},
     "output_type": "execute_result"
    }
   ],
   "source": [
    "\",\".join(words)"
   ]
  },
  {
   "cell_type": "markdown",
   "id": "eb9966fa",
   "metadata": {},
   "source": [
    "### Another example of join"
   ]
  },
  {
   "cell_type": "code",
   "execution_count": 6,
   "id": "66986f60",
   "metadata": {},
   "outputs": [
    {
     "name": "stdout",
     "output_type": "stream",
     "text": [
      "First line\n",
      "Second line\n",
      "Third line\n"
     ]
    }
   ],
   "source": [
    "lines = ['First line','Second line','Third line']\n",
    "output = '\\n'.join(lines)\n",
    "print(output)"
   ]
  },
  {
   "cell_type": "markdown",
   "id": "b39c75cb",
   "metadata": {},
   "source": [
    "### FORMAT Method, format()"
   ]
  },
  {
   "cell_type": "code",
   "execution_count": 7,
   "id": "24767778",
   "metadata": {},
   "outputs": [
    {
     "data": {
      "text/plain": [
       "'Hello my name is Richard, I really enjoy python, Have a nice day'"
      ]
     },
     "execution_count": 7,
     "metadata": {},
     "output_type": "execute_result"
    }
   ],
   "source": [
    "template = \"Hello my name is {}, I really enjoy {}, Have a nice day\"\n",
    "template.format(\"Richard\",\"python\")"
   ]
  },
  {
   "cell_type": "markdown",
   "id": "79a9ecfb",
   "metadata": {},
   "source": [
    "### We can have a numeric positional reference"
   ]
  },
  {
   "cell_type": "code",
   "execution_count": 8,
   "id": "8e319b3a",
   "metadata": {},
   "outputs": [
    {
     "data": {
      "text/plain": [
       "'hello my name is Richard. I love python. have a nice day - Richard'"
      ]
     },
     "execution_count": 8,
     "metadata": {},
     "output_type": "execute_result"
    }
   ],
   "source": [
    "\"hello my name is {0}. I love {1}. have a nice day - {0}\".format(\"Richard\",\"python\")"
   ]
  }
 ],
 "metadata": {
  "celltoolbar": "Raw Cell Format",
  "kernelspec": {
   "display_name": "Python 3 (ipykernel)",
   "language": "python",
   "name": "python3"
  },
  "language_info": {
   "codemirror_mode": {
    "name": "ipython",
    "version": 3
   },
   "file_extension": ".py",
   "mimetype": "text/x-python",
   "name": "python",
   "nbconvert_exporter": "python",
   "pygments_lexer": "ipython3",
   "version": "3.9.7"
  }
 },
 "nbformat": 4,
 "nbformat_minor": 5
}
